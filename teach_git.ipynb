{
  "cells": [
    {
      "cell_type": "raw",
      "metadata": {},
      "source": [
        "---\n",
        "title: \"Control de Versiones con Git y GitHub\"\n",
        "author: \"Antonio J. Pérez-Luque\"\n",
        "format:\n",
        "  revealjs: \n",
        "    theme: custom_theme.scss\n",
        "    transition: fade\n",
        "---"
      ],
      "id": "08cec029"
    },
    {
      "cell_type": "markdown",
      "metadata": {},
      "source": [
        "![[phdcomic](http://phdcomics.com/)](images/final_doc.png)"
      ],
      "id": "303582f1"
    },
    {
      "cell_type": "raw",
      "metadata": {},
      "source": [
        "--- \n",
        "\n",
        "![[phdcomic](http://phdcomics.com/)](images/astorytold.png)\n",
        "\n",
        "## ¿Qué es el control de versiones? \n",
        "\n",
        "El **control de versiones** es un sistema que registra los cambios realizados sobre un archivo o conjunto de archivos a lo largo del tiempo, de modo que podamos recuperar versiones específicas más adelante\n",
        "\n",
        "- Se puede utilizar sobre cualquier archivo. \n",
        "- Permite: \n",
        "  - Revertir archivos (proyecto) a un estado anterior\n",
        "  - Comparar cambios a lo largo del tiempo\n",
        "- Facilita la identificación de errores \n",
        "\n",
        "## Registro de cambios \n",
        "\n",
        "![](images/carp-changes.svg)\n",
        "\n",
        "## Registro de cambios (varios usuarios) {.small}\n",
        "\n",
        "![](images/carp-two-users.svg){fig-align=\"center\"}\n",
        "\n",
        "## Integración de cambios \n",
        "![](images/carp-merge.svg){fig-align=\"center\"}\n",
        "\n",
        "## Sistemas para el control de versiones\n",
        "<p align=\"center\"><img src=\"images/git_logo.png\" height=\"251\" width=\"600\"></p>\n",
        "<br>\n",
        "\n",
        "- [ProGit book](http://git-scm.com/book/en/v2) \n",
        "- Otros:\n",
        "  - [Subversion](https://subversion.apache.org/)\n",
        "  - Concurrent Version System [CVS](https://www.nongnu.org/cvs/)\n",
        "\n",
        "## Git\n",
        "\n",
        "- Sistema avanzado de control de versiones distribuido\n",
        "- Permite **rastrear** el progreso de un proyecto mediante **capturas**\n",
        "  - **¿Qué cambios?**\n",
        "  - **¿Dónde?**\n",
        "  - **¿Quién los hizo?**\n",
        "  - **¿Por qué?**\n",
        "\n",
        "\n",
        "---"
      ],
      "id": "582dbdf1"
    },
    {
      "cell_type": "markdown",
      "metadata": {},
      "source": [
        "![[Devon Wijesinghe](https://wdevon99.medium.com/git-under-the-hood-26b46a47393c)](images/git-distributed.png)\n",
        "\n",
        "## Recursos sobre Git\n",
        "::: small\n",
        "- [Interactive Tutorial Git (CodeSchool)](https://try.github.io/levels/1/challenges/1)\n",
        "- [Git - the simple guide (Roger Dudler)](http://rogerdudler.github.io/git-guide/index.es.html)\n",
        "- [Git and GitHub (Hadley Wickham)](http://r-pkgs.had.co.nz/git.html)\n",
        "- [A brief introduction to git & GitHub (Karl Broman & Samuel G. Younkin)](https://www.biostat.wisc.edu/~kbroman/talks/GitPrimer.pdf)\n",
        "- [A basic tutorial to version control using git (Jon Lefcheck)](http://jonlefcheck.net/2013/11/04/a-basic-tutorial-to-version-control-using-git/)\n",
        "- [Git/Github guide a minimal tutorial (Karl Broman)](http://kbroman.org/github_tutorial/)\n",
        "- [Getting Git Right (Atlassian)](https://www.atlassian.com/git/tutorials/setting-up-a-repository) \n",
        "- [Recopilación de tutoriales (F. Rodríguez-Sánchez)](https://gist.github.com/Pakillo/63c15c700c9c76fe8032)\n",
        ":::\n",
        "\n",
        "## Crear un repositorio nuevo\n",
        "\n",
        "- Abre la [consola de comandos](https://linube.com/ayuda/articulo/174/abrir-una-consola-de-comandos)\n",
        "- Crea un directorio nuevo y ábrelo\n",
        "\n",
        "```{shell}\n",
        "mkdir <nombre_directorio>\n",
        "```\n",
        "\n",
        "```{}\n",
        "mkdir datos\n",
        "cd datos\n",
        "```"
      ],
      "id": "f12f66d1"
    }
  ],
  "metadata": {
    "kernelspec": {
      "name": "python3",
      "language": "python",
      "display_name": "Python 3"
    }
  },
  "nbformat": 4,
  "nbformat_minor": 5
}